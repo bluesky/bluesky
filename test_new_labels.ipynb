{
 "cells": [
  {
   "cell_type": "code",
   "execution_count": 11,
   "metadata": {},
   "outputs": [],
   "source": [
    "\n",
    "import matplotlib.pyplot as plt\n",
    "from ophyd.sim import hw\n",
    "\n",
    "from bluesky import RunEngine\n",
    "from bluesky.callbacks.best_effort import BestEffortCallback\n",
    "from bluesky.plans import scan\n"
   ]
  },
  {
   "cell_type": "code",
   "execution_count": 12,
   "metadata": {},
   "outputs": [
    {
     "data": {
      "text/plain": [
       "0"
      ]
     },
     "execution_count": 12,
     "metadata": {},
     "output_type": "execute_result"
    }
   ],
   "source": [
    "\n",
    "plt.ion()\n",
    "RE = RunEngine()\n",
    "bec = BestEffortCallback()\n",
    "RE.subscribe(bec)\n"
   ]
  },
  {
   "cell_type": "code",
   "execution_count": 13,
   "metadata": {},
   "outputs": [
    {
     "data": {
      "text/plain": [
       "<method-wrapper '__getattribute__' of BestEffortCallback object at 0x7f9eb55a3ce0>"
      ]
     },
     "execution_count": 13,
     "metadata": {},
     "output_type": "execute_result"
    }
   ],
   "source": [
    "\n",
    "bec.__getattribute__"
   ]
  },
  {
   "cell_type": "code",
   "execution_count": 14,
   "metadata": {},
   "outputs": [
    {
     "name": "stdout",
     "output_type": "stream",
     "text": [
      "\n",
      "\n",
      "Transient Scan ID: 1     Time: 2024-10-08 16:15:29\n",
      "Persistent Unique Scan ID: '2b564229-553f-4e64-9dd3-36d5c65a9a18'\n",
      "New stream: 'primary'\n"
     ]
    },
    {
     "name": "stderr",
     "output_type": "stream",
     "text": [
      "An exception raised in the callback <function BestEffortCallback.__call__ at 0x7f9ee1e174c0> is being suppressed to not interrupt plan execution.  To investigate try setting the BLUESKY_DEBUG_CALLBACKS env to '1'\n",
      "Traceback (most recent call last):\n",
      "  File \"/workspaces/bluesky/src/bluesky/callbacks/core.py\", line 65, in inner\n",
      "    return func(*args, **kwargs)\n",
      "           ^^^^^^^^^^^^^^^^^^^^^\n",
      "  File \"/workspaces/bluesky/src/bluesky/callbacks/best_effort.py\", line 121, in __call__\n",
      "    \"Do not plot anything.\"\n",
      "  File \"/workspaces/bluesky/src/bluesky/callbacks/mpl_plotting.py\", line 80, in __call__\n",
      "    return CallbackBase.__call__(self, name, doc)\n",
      "           ^^^^^^^^^^^^^^^^^^^^^^^^^^^^^^^^^^^^^^\n",
      "  File \"/venv/lib/python3.12/site-packages/event_model/__init__.py\", line 166, in __call__\n",
      "    return self._dispatch(name, doc, validate)\n",
      "           ^^^^^^^^^^^^^^^^^^^^^^^^^^^^^^^^^^^\n",
      "  File \"/venv/lib/python3.12/site-packages/event_model/__init__.py\", line 174, in _dispatch\n",
      "    output_doc = getattr(self, name)(doc)\n",
      "                 ^^^^^^^^^^^^^^^^^^^^^^^^\n",
      "  File \"/workspaces/bluesky/src/bluesky/callbacks/best_effort.py\", line 401, in descriptor\n",
      "    continue\n",
      "  File \"/workspaces/bluesky/src/bluesky/callbacks/best_effort.py\", line 276, in _set_up_plots\n",
      "    dtype = doc[\"data_keys\"][y_key][\"dtype\"]\n",
      "                                             \n",
      "AttributeError: 'BestEffortCallback' object has no attribute '_BestEffortCallback__label_format'\n"
     ]
    },
    {
     "name": "stdout",
     "output_type": "stream",
     "text": [
      "\n",
      "\n",
      "\n"
     ]
    },
    {
     "data": {
      "text/plain": [
       "('2b564229-553f-4e64-9dd3-36d5c65a9a18',)"
      ]
     },
     "execution_count": 14,
     "metadata": {},
     "output_type": "execute_result"
    },
    {
     "data": {
      "image/png": "[encoded data removed]",
      "text/plain": [
       "<Figure size 500x500 with 1 Axes>"
      ]
     },
     "metadata": {},
     "output_type": "display_data"
    }
   ],
   "source": [
    "\n",
    "hw = hw()\n",
    "\n",
    "RE(scan([hw.ab_det], hw.motor, 1, 5, 5))"
   ]
  }
 ],
 "metadata": {
  "kernelspec": {
   "display_name": ".venv",
   "language": "python",
   "name": "python3"
  },
  "language_info": {
   "codemirror_mode": {
    "name": "ipython",
    "version": 3
   },
   "file_extension": ".py",
   "mimetype": "text/x-python",
   "name": "python",
   "nbconvert_exporter": "python",
   "pygments_lexer": "ipython3",
   "version": "3.12.6"
  }
 },
 "nbformat": 4,
 "nbformat_minor": 2
}
